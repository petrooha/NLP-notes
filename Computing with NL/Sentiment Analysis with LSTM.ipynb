{
 "cells": [
  {
   "cell_type": "markdown",
   "metadata": {},
   "source": [
    "# Sentiment Analysis Part 2\n",
    "\n",
    "_Natural Langauge Processing Nanodegree Program_\n",
    "\n",
    "---\n",
    "\n"
   ]
  },
  {
   "cell_type": "markdown",
   "metadata": {},
   "source": [
    "## Step 5: Switching gears - RNNs\n",
    "\n",
    "We just saw how the task of sentiment analysis can be solved via a traditional machine learning approach: BoW + a nonlinear classifier. We now switch gears and use Recurrent Neural Networks, and in particular LSTMs, to perform sentiment analysis in Keras. Conveniently, Keras has a built-in [IMDb movie reviews dataset](https://keras.io/datasets/#imdb-movie-reviews-sentiment-classification) that we can use, with the same vocabulary size."
   ]
  },
  {
   "cell_type": "code",
   "execution_count": 9,
   "metadata": {},
   "outputs": [
    {
     "name": "stdout",
     "output_type": "stream",
     "text": [
      "Loaded dataset with 25000 training samples, 25000 test samples\n"
     ]
    }
   ],
   "source": [
    "from keras.datasets import imdb  # import the built-in imdb dataset in Keras\n",
    "\n",
    "# Set the vocabulary size\n",
    "vocabulary_size = 5000\n",
    "\n",
    "# Load in training and test data (note the difference in convention compared to scikit-learn)\n",
    "(X_train, y_train), (X_test, y_test) = imdb.load_data(num_words=vocabulary_size)\n",
    "print(\"Loaded dataset with {} training samples, {} test samples\".format(len(X_train), len(X_test)))"
   ]
  },
  {
   "cell_type": "code",
   "execution_count": 10,
   "metadata": {},
   "outputs": [
    {
     "name": "stdout",
     "output_type": "stream",
     "text": [
      "--- Review ---\n",
      "[1, 13, 2083, 56, 23, 14, 356, 1010, 201, 5, 17, 6, 506, 210, 1192, 12, 6, 1694, 112, 1668, 8, 789, 56, 522, 23, 2710, 2, 8, 106, 12, 2, 9, 131, 2, 796, 1753, 11, 796, 1129, 10, 10, 4, 201, 2, 4, 2474, 7, 4, 2, 223, 37, 412, 23, 6, 2, 751, 4566, 543, 2, 187, 4, 3286, 325, 999, 68, 2, 446, 4, 2, 9, 521, 5, 2, 34, 4, 2, 336, 1022, 5, 27, 2, 289, 3197, 1867, 2, 5, 117, 914, 134, 289, 1094, 28, 275, 2, 32, 7, 937, 28, 2116, 245, 153, 908, 10, 10, 4, 2, 26, 6, 254, 780, 2, 5, 2, 223, 545, 4973, 11, 148, 531, 4, 2, 9, 1058, 38, 4471, 94, 2, 3443, 6, 176, 7, 2, 3053, 82, 2, 245, 26, 400, 1670, 11, 661, 8, 818, 42, 2225, 2, 5, 38, 2589, 2964, 8, 135, 171, 7, 134, 2, 1345, 2, 261, 2, 76, 7, 4, 2, 1708, 215, 30, 1084, 2, 68, 2, 39, 2, 42, 2, 533, 39, 2, 3683, 7, 68, 2, 5, 4244, 2577, 4, 2, 81, 6, 1257, 227, 7, 2, 68, 1865, 56, 11, 4, 945, 5, 141, 21, 64, 1258, 8, 516, 54, 2, 427, 1670, 36, 26, 574, 11, 998, 513, 2, 60, 4, 993, 113, 7, 4, 2, 3641, 10, 10, 31, 7, 4, 293, 2, 7, 4, 201, 9, 4, 2, 4830, 15, 9, 210, 984, 466, 2552, 2, 200, 1022, 5, 27, 289, 3197, 5, 466, 4852, 2, 200, 4, 289, 1094, 150, 31, 597, 238, 1559, 56, 160, 175, 150, 5, 95, 21, 1228, 47, 6, 52, 282, 18, 12, 33, 4, 58, 5, 27, 2563, 115, 2, 196, 4, 105, 26, 32, 55, 73, 1309, 1022, 9, 1000, 17, 6, 1112, 5, 3143, 132, 7, 87, 2, 4, 2, 492, 1867, 4, 91, 2, 5, 2, 7, 4, 1094, 317, 2, 143, 4, 201, 4, 655, 597, 2, 9, 6, 3800, 1463, 7, 6, 2, 2123, 37, 47, 35, 2, 2, 18, 1644, 5, 9, 6, 117, 3566, 187, 4, 1914, 4, 2, 117, 914, 9, 6, 893, 2854, 2252, 2, 37, 34, 2288, 47, 179, 6, 96, 19, 372, 14, 3993, 7, 1094, 358, 998, 2, 21, 68, 119, 4993, 26, 3475, 556, 125, 34, 4, 130, 7, 4, 390, 42, 334, 1349, 1534, 1167, 18, 845, 282, 10, 10, 4, 156, 26, 32, 4244, 11, 68, 555, 587, 2, 3338, 1867, 2130, 2, 2, 488, 2, 117, 914, 5, 7, 265, 2, 2, 17, 4, 2, 223, 2, 1022, 13, 82, 119, 4, 2, 3107, 4497, 1941, 256, 34, 2273, 2, 2, 10, 10, 14, 9, 6, 389, 206, 3015, 1010, 19, 87, 1234, 4, 2, 26, 210, 4, 3143, 1737, 5, 91, 7, 4, 78, 493, 179, 2, 48, 64, 50, 71, 53, 2, 40, 14, 2, 1010, 23, 248, 134, 504]\n",
      "--- Label ---\n",
      "1\n"
     ]
    }
   ],
   "source": [
    "# Inspect a sample review and its label\n",
    "print(\"--- Review ---\")\n",
    "print(X_train[7])\n",
    "print(\"--- Label ---\")\n",
    "print(y_train[7])"
   ]
  },
  {
   "cell_type": "markdown",
   "metadata": {},
   "source": [
    "Notice that the label is an integer (0 for negative, 1 for positive), and the review itself is stored as a sequence of integers. These are word IDs that have been preassigned to individual words. To map them back to the original words, you can use the dictionary returned by `imdb.get_word_index()`."
   ]
  },
  {
   "cell_type": "code",
   "execution_count": 11,
   "metadata": {},
   "outputs": [
    {
     "name": "stdout",
     "output_type": "stream",
     "text": [
      "--- Review (with words) ---\n",
      "['the', 'was', 'meanwhile', 'she', 'are', 'as', 'need', 'boys', 'original', 'to', 'movie', 'is', 'flick', 'point', 'sick', 'that', 'is', 'uncle', 'never', 'carry', 'in', 'feature', 'she', 'etc', 'are', 'mexico', 'and', 'in', 'character', 'that', 'and', 'it', 'these', 'and', 'sister', 'tim', 'this', 'sister', 'cat', 'i', 'i', 'of', 'original', 'and', 'of', 'roger', 'br', 'of', 'and', 'whole', 'like', 'person', 'are', 'is', 'and', 'nearly', 'stilted', 'myself', 'and', 'however', 'of', 'stunts', 'black', 'cop', 'were', 'and', 'oh', 'of', 'and', 'it', 'actress', 'to', 'and', 'who', 'of', 'and', 'help', 'unlike', 'to', 'be', 'and', 'job', 'fortune', 'sucks', 'and', 'to', 'over', 'acted', 'while', 'job', 'entirely', 'one', 'money', 'and', 'an', 'br', 'directing', 'one', 'sake', 'tv', 'actors', 'open', 'i', 'i', 'of', 'and', 'he', 'is', 'each', 'die', 'and', 'to', 'and', 'whole', 'fight', 'album', 'this', 'though', 'hour', 'of', 'and', 'it', 'filled', 'her', 'sits', 'make', 'and', \"world's\", 'is', 'quite', 'br', 'and', 'adapted', 'other', 'and', 'tv', 'he', 'name', '40', 'this', 'documentary', 'in', 'realistic', \"it's\", 'exploitation', 'and', 'to', 'her', 'powell', 'burt', 'in', 'why', 'again', 'br', 'while', 'and', 'surely', 'and', 'believe', 'and', 'get', 'br', 'of', 'and', 'epic', \"isn't\", 'at', 'suddenly', 'and', 'were', 'and', 'or', 'and', \"it's\", 'and', 'thinking', 'or', 'and', 'farce', 'br', 'were', 'and', 'to', 'surviving', 'sorts', 'of', 'and', 'people', 'is', 'explain', 'far', 'br', 'and', 'were', 'kate', 'she', 'this', 'of', 'creepy', 'to', 'should', 'not', 'see', 'pick', 'in', 'car', 'no', 'and', 'boy', '40', 'from', 'he', 'daughter', 'this', 'co', 'kill', 'and', 'which', 'of', 'fails', 'acting', 'br', 'of', 'and', 'rap', 'i', 'i', 'by', 'br', 'of', 'watched', 'and', 'br', 'of', 'original', 'it', 'of', 'and', 'tends', 'for', 'it', 'point', 'create', 'throughout', 'directly', 'and', 'may', 'unlike', 'to', 'be', 'job', 'fortune', 'to', 'throughout', 'dressing', 'and', 'may', 'of', 'job', 'entirely', 'years', 'by', 'none', '2', 'thoroughly', 'she', 'funny', 'us', 'years', 'to', 'them', 'not', 'stick', 'there', 'is', 'very', 'everything', 'but', 'that', 'they', 'of', 'my', 'to', 'be', 'performed', 'best', 'and', 'both', 'of', 'films', 'he', 'an', 'time', 'much', 'door', 'unlike', 'it', 'secret', 'movie', 'is', 'violent', 'to', 'tied', 'say', 'br', 'him', 'and', 'of', 'and', 'works', 'sucks', 'of', 'its', 'and', 'to', 'and', 'br', 'of', 'entirely', 'half', 'and', \"i'm\", 'of', 'original', 'of', 'husband', 'none', 'and', 'it', 'is', 'thick', 'spot', 'br', 'is', 'and', 'creates', 'like', 'there', 'so', 'and', 'and', 'but', 'martial', 'to', 'it', 'is', 'over', 'savage', 'however', 'of', 'delightful', 'of', 'and', 'over', 'acted', 'it', 'is', 'baby', 'basis', 'sports', 'and', 'like', 'who', 'par', 'there', 'world', 'is', 'too', 'film', 'next', 'as', 'ellen', 'br', 'entirely', 'use', 'co', 'and', 'not', 'were', 'did', 'israel', 'he', 'nuclear', 'age', 'better', 'who', 'of', 'here', 'br', 'of', 'face', \"it's\", 'fan', 'costumes', 'students', 'college', 'but', 'lee', 'everything', 'i', 'i', 'of', 'before', 'he', 'an', 'surviving', 'this', 'were', 'god', 's', 'and', 'spell', 'sucks', 'author', 'and', 'and', 'close', 'and', 'over', 'acted', 'to', 'br', 'screen', 'and', 'and', 'movie', 'of', 'and', 'whole', 'and', 'unlike', 'was', 'other', 'did', 'of', 'and', 'dubbing', 'edgar', 'conflict', 'anyone', 'who', 'appealing', 'and', 'and', 'i', 'i', 'as', 'it', 'is', 'small', 'without', 'wwii', 'boys', 'film', 'him', 'involving', 'of', 'and', 'he', 'point', 'of', 'tied', 'artist', 'to', 'its', 'br', 'of', 'do', 'behind', 'world', 'and', 'what', 'see', 'more', 'than', 'up', 'and', 'just', 'as', 'and', 'boys', 'are', 'day', 'while', \"they're\"]\n",
      "--- Label ---\n",
      "1\n"
     ]
    }
   ],
   "source": [
    "# Map word IDs back to words\n",
    "word2id = imdb.get_word_index()\n",
    "id2word = {i: word for word, i in word2id.items()}\n",
    "print(\"--- Review (with words) ---\")\n",
    "print([id2word.get(i, \" \") for i in X_train[7]])\n",
    "print(\"--- Label ---\")\n",
    "print(y_train[7])"
   ]
  },
  {
   "cell_type": "code",
   "execution_count": 12,
   "metadata": {},
   "outputs": [
    {
     "name": "stdout",
     "output_type": "stream",
     "text": [
      "2494\n",
      "11\n"
     ]
    }
   ],
   "source": [
    "lenghts = []\n",
    "for review in X_train:\n",
    "    lenghts.append(len(review))\n",
    "print(max(lenghts))\n",
    "print(min(lenghts))"
   ]
  },
  {
   "cell_type": "markdown",
   "metadata": {},
   "source": [
    "Unlike our Bag-of-Words approach, where we simply summarized the counts of each word in a document, this representation essentially retains the entire sequence of words (minus punctuation, stopwords, etc.). This is critical for RNNs to function. But it also means that now the features can be of different lengths!\n",
    "\n",
    "#### Question: Variable length reviews\n",
    "\n",
    "What is the maximum review length (in terms of number of words) in the training set? What is the minimum?\n",
    "\n",
    "#### Answer:\n",
    "\n",
    "2494 and 11\n",
    "\n",
    "\n",
    "### TODO: Pad sequences\n",
    "\n",
    "In order to feed this data into your RNN, all input documents must have the same length. Let's limit the maximum review length to `max_words` by truncating longer reviews and padding shorter reviews with a null value (0). You can accomplish this easily using the [`pad_sequences()`](https://keras.io/preprocessing/sequence/#pad_sequences) function in Keras. For now, set `max_words` to 500."
   ]
  },
  {
   "cell_type": "code",
   "execution_count": 13,
   "metadata": {},
   "outputs": [],
   "source": [
    "from keras.preprocessing import sequence\n",
    "\n",
    "# Set the maximum number of words per document (for both training and testing)\n",
    "max_words = 500\n",
    "\n",
    "# TODO: Pad sequences in X_train and X_test\n",
    "X_train = sequence.pad_sequences(X_train, maxlen=max_words)\n",
    "X_test = sequence.pad_sequences(X_test, maxlen=max_words)"
   ]
  },
  {
   "cell_type": "markdown",
   "metadata": {},
   "source": [
    "### TODO: Design an RNN model for sentiment analysis\n",
    "\n",
    "Build your model architecture in the code cell below. We have imported some layers from Keras that you might need but feel free to use any other layers / transformations you like.\n",
    "\n",
    "Remember that your input is a sequence of words (technically, integer word IDs) of maximum length = `max_words`, and your output is a binary sentiment label (0 or 1)."
   ]
  },
  {
   "cell_type": "code",
   "execution_count": 14,
   "metadata": {},
   "outputs": [
    {
     "name": "stdout",
     "output_type": "stream",
     "text": [
      "_________________________________________________________________\n",
      "Layer (type)                 Output Shape              Param #   \n",
      "=================================================================\n",
      "embedding_2 (Embedding)      (None, 500, 50)           250000    \n",
      "_________________________________________________________________\n",
      "lstm_2 (LSTM)                (None, 100)               60400     \n",
      "_________________________________________________________________\n",
      "dense_2 (Dense)              (None, 1)                 101       \n",
      "=================================================================\n",
      "Total params: 310,501\n",
      "Trainable params: 310,501\n",
      "Non-trainable params: 0\n",
      "_________________________________________________________________\n",
      "None\n"
     ]
    }
   ],
   "source": [
    "from keras.models import Sequential\n",
    "from keras.layers import Embedding, LSTM, Dense, Dropout\n",
    "\n",
    "# TODO: Design your model\n",
    "model = Sequential()\n",
    "model.add(Embedding(vocabulary_size, 50, input_length=max_words))\n",
    "model.add(LSTM(100))\n",
    "model.add(Dense(1, activation='sigmoid'))\n",
    "\n",
    "print(model.summary())"
   ]
  },
  {
   "cell_type": "markdown",
   "metadata": {},
   "source": [
    "#### Question: Architecture and parameters\n",
    "\n",
    "Briefly describe your neural net architecture. How many model parameters does it have that need to be trained?\n",
    "\n",
    "#### Answer:\n",
    "\n",
    "310501\n",
    "\n",
    "### TODO: Train and evaluate your model\n",
    "\n",
    "Now you are ready to train your model. In Keras world, you first need to _compile_ your model by specifying the loss function and optimizer you want to use while training, as well as any evaluation metrics you'd like to measure. Specify the approprate parameters, including at least one metric `'accuracy'`."
   ]
  },
  {
   "cell_type": "code",
   "execution_count": 15,
   "metadata": {},
   "outputs": [],
   "source": [
    "# TODO: Compile your model, specifying a loss function, optimizer, and metrics\n",
    "model.compile(loss='binary_crossentropy', optimizer='adam', metrics=['accuracy'])"
   ]
  },
  {
   "cell_type": "markdown",
   "metadata": {},
   "source": [
    "Once compiled, you can kick off the training process. There are two important training parameters that you have to specify - **batch size** and **number of training epochs**, which together with your model architecture determine the total training time.\n",
    "\n",
    "Training may take a while, so grab a cup of coffee, or better, go for a hike! If possible, consider using a GPU, as a single training run can take several hours on a CPU.\n",
    "\n",
    "> **Tip**: You can split off a small portion of the training set to be used for validation during training. This will help monitor the training process and identify potential overfitting. You can supply a validation set to `model.fit()` using its `validation_data` parameter, or just specify `validation_split` - a fraction of the training data for Keras to set aside for this purpose (typically 5-10%). Validation metrics are evaluated once at the end of each epoch."
   ]
  },
  {
   "cell_type": "code",
   "execution_count": 16,
   "metadata": {},
   "outputs": [
    {
     "name": "stdout",
     "output_type": "stream",
     "text": [
      "Train on 25000 samples, validate on 12500 samples\n",
      "Epoch 1/6\n",
      "25000/25000 [==============================] - 631s 25ms/step - loss: 0.4997 - acc: 0.7406 - val_loss: 0.3571 - val_acc: 0.8462\n",
      "Epoch 2/6\n",
      "25000/25000 [==============================] - 617s 25ms/step - loss: 0.3127 - acc: 0.8725 - val_loss: 0.3164 - val_acc: 0.8754\n",
      "Epoch 3/6\n",
      "25000/25000 [==============================] - 622s 25ms/step - loss: 0.2491 - acc: 0.9020 - val_loss: 0.3079 - val_acc: 0.8821\n",
      "Epoch 4/6\n",
      "25000/25000 [==============================] - 620s 25ms/step - loss: 0.2274 - acc: 0.9115 - val_loss: 0.3261 - val_acc: 0.8759\n",
      "Epoch 5/6\n",
      "25000/25000 [==============================] - 620s 25ms/step - loss: 0.1864 - acc: 0.9296 - val_loss: 0.3538 - val_acc: 0.8740\n",
      "Epoch 6/6\n",
      "25000/25000 [==============================] - 615s 25ms/step - loss: 0.1589 - acc: 0.9415 - val_loss: 0.3672 - val_acc: 0.8656\n"
     ]
    },
    {
     "data": {
      "text/plain": [
       "<keras.callbacks.History at 0x7f57400beba8>"
      ]
     },
     "execution_count": 16,
     "metadata": {},
     "output_type": "execute_result"
    }
   ],
   "source": [
    "# TODO: Specify training parameters: batch size and number of epochs\n",
    "batch_size = 64\n",
    "num_epochs = 6\n",
    "val_size = 12500\n",
    "\n",
    "# TODO(optional): Reserve/specify some training data for validation (not to be used for training)\n",
    "X_valid, y_valid = X_test[:val_size], y_test[:val_size]\n",
    "X_test, y_test = X_test[val_size:], y_test[val_size:]\n",
    "\n",
    "# TODO: Train your model\n",
    "model.fit(X_train, y_train, validation_data=(X_valid, y_valid),\n",
    "          batch_size=batch_size, epochs=num_epochs)"
   ]
  },
  {
   "cell_type": "code",
   "execution_count": 17,
   "metadata": {},
   "outputs": [
    {
     "ename": "OSError",
     "evalue": "Unable to create file (unable to open file: name = 'cache/rnn_model.h5', errno = 2, error message = 'No such file or directory', flags = 13, o_flags = 242)",
     "output_type": "error",
     "traceback": [
      "\u001b[0;31m---------------------------------------------------------------------------\u001b[0m",
      "\u001b[0;31mOSError\u001b[0m                                   Traceback (most recent call last)",
      "\u001b[0;32m<ipython-input-17-bb8bf9e91cb0>\u001b[0m in \u001b[0;36m<module>\u001b[0;34m()\u001b[0m\n\u001b[1;32m      2\u001b[0m \u001b[0;31m# Save your model, so that you can quickly load it in future (and perhaps resume training)\u001b[0m\u001b[0;34m\u001b[0m\u001b[0;34m\u001b[0m\u001b[0m\n\u001b[1;32m      3\u001b[0m \u001b[0mmodel_file\u001b[0m \u001b[0;34m=\u001b[0m \u001b[0;34m\"rnn_model.h5\"\u001b[0m  \u001b[0;31m# HDF5 file\u001b[0m\u001b[0;34m\u001b[0m\u001b[0m\n\u001b[0;32m----> 4\u001b[0;31m \u001b[0mmodel\u001b[0m\u001b[0;34m.\u001b[0m\u001b[0msave\u001b[0m\u001b[0;34m(\u001b[0m\u001b[0mos\u001b[0m\u001b[0;34m.\u001b[0m\u001b[0mpath\u001b[0m\u001b[0;34m.\u001b[0m\u001b[0mjoin\u001b[0m\u001b[0;34m(\u001b[0m\u001b[0;34m\"cache\"\u001b[0m\u001b[0;34m,\u001b[0m \u001b[0mmodel_file\u001b[0m\u001b[0;34m)\u001b[0m\u001b[0;34m)\u001b[0m\u001b[0;34m\u001b[0m\u001b[0m\n\u001b[0m\u001b[1;32m      5\u001b[0m \u001b[0;34m\u001b[0m\u001b[0m\n\u001b[1;32m      6\u001b[0m \u001b[0;31m# Later you can load it using keras.models.load_model()\u001b[0m\u001b[0;34m\u001b[0m\u001b[0;34m\u001b[0m\u001b[0m\n",
      "\u001b[0;32m/opt/conda/lib/python3.6/site-packages/keras/engine/topology.py\u001b[0m in \u001b[0;36msave\u001b[0;34m(self, filepath, overwrite, include_optimizer)\u001b[0m\n\u001b[1;32m   2554\u001b[0m         \"\"\"\n\u001b[1;32m   2555\u001b[0m         \u001b[0;32mfrom\u001b[0m \u001b[0;34m.\u001b[0m\u001b[0;34m.\u001b[0m\u001b[0mmodels\u001b[0m \u001b[0;32mimport\u001b[0m \u001b[0msave_model\u001b[0m\u001b[0;34m\u001b[0m\u001b[0m\n\u001b[0;32m-> 2556\u001b[0;31m         \u001b[0msave_model\u001b[0m\u001b[0;34m(\u001b[0m\u001b[0mself\u001b[0m\u001b[0;34m,\u001b[0m \u001b[0mfilepath\u001b[0m\u001b[0;34m,\u001b[0m \u001b[0moverwrite\u001b[0m\u001b[0;34m,\u001b[0m \u001b[0minclude_optimizer\u001b[0m\u001b[0;34m)\u001b[0m\u001b[0;34m\u001b[0m\u001b[0m\n\u001b[0m\u001b[1;32m   2557\u001b[0m \u001b[0;34m\u001b[0m\u001b[0m\n\u001b[1;32m   2558\u001b[0m     \u001b[0;32mdef\u001b[0m \u001b[0msave_weights\u001b[0m\u001b[0;34m(\u001b[0m\u001b[0mself\u001b[0m\u001b[0;34m,\u001b[0m \u001b[0mfilepath\u001b[0m\u001b[0;34m,\u001b[0m \u001b[0moverwrite\u001b[0m\u001b[0;34m=\u001b[0m\u001b[0;32mTrue\u001b[0m\u001b[0;34m)\u001b[0m\u001b[0;34m:\u001b[0m\u001b[0;34m\u001b[0m\u001b[0m\n",
      "\u001b[0;32m/opt/conda/lib/python3.6/site-packages/keras/models.py\u001b[0m in \u001b[0;36msave_model\u001b[0;34m(model, filepath, overwrite, include_optimizer)\u001b[0m\n\u001b[1;32m    100\u001b[0m             \u001b[0;32mreturn\u001b[0m\u001b[0;34m\u001b[0m\u001b[0m\n\u001b[1;32m    101\u001b[0m \u001b[0;34m\u001b[0m\u001b[0m\n\u001b[0;32m--> 102\u001b[0;31m     \u001b[0;32mwith\u001b[0m \u001b[0mh5py\u001b[0m\u001b[0;34m.\u001b[0m\u001b[0mFile\u001b[0m\u001b[0;34m(\u001b[0m\u001b[0mfilepath\u001b[0m\u001b[0;34m,\u001b[0m \u001b[0mmode\u001b[0m\u001b[0;34m=\u001b[0m\u001b[0;34m'w'\u001b[0m\u001b[0;34m)\u001b[0m \u001b[0;32mas\u001b[0m \u001b[0mf\u001b[0m\u001b[0;34m:\u001b[0m\u001b[0;34m\u001b[0m\u001b[0m\n\u001b[0m\u001b[1;32m    103\u001b[0m         \u001b[0mf\u001b[0m\u001b[0;34m.\u001b[0m\u001b[0mattrs\u001b[0m\u001b[0;34m[\u001b[0m\u001b[0;34m'keras_version'\u001b[0m\u001b[0;34m]\u001b[0m \u001b[0;34m=\u001b[0m \u001b[0mstr\u001b[0m\u001b[0;34m(\u001b[0m\u001b[0mkeras_version\u001b[0m\u001b[0;34m)\u001b[0m\u001b[0;34m.\u001b[0m\u001b[0mencode\u001b[0m\u001b[0;34m(\u001b[0m\u001b[0;34m'utf8'\u001b[0m\u001b[0;34m)\u001b[0m\u001b[0;34m\u001b[0m\u001b[0m\n\u001b[1;32m    104\u001b[0m         \u001b[0mf\u001b[0m\u001b[0;34m.\u001b[0m\u001b[0mattrs\u001b[0m\u001b[0;34m[\u001b[0m\u001b[0;34m'backend'\u001b[0m\u001b[0;34m]\u001b[0m \u001b[0;34m=\u001b[0m \u001b[0mK\u001b[0m\u001b[0;34m.\u001b[0m\u001b[0mbackend\u001b[0m\u001b[0;34m(\u001b[0m\u001b[0;34m)\u001b[0m\u001b[0;34m.\u001b[0m\u001b[0mencode\u001b[0m\u001b[0;34m(\u001b[0m\u001b[0;34m'utf8'\u001b[0m\u001b[0;34m)\u001b[0m\u001b[0;34m\u001b[0m\u001b[0m\n",
      "\u001b[0;32m/opt/conda/lib/python3.6/site-packages/h5py/_hl/files.py\u001b[0m in \u001b[0;36m__init__\u001b[0;34m(self, name, mode, driver, libver, userblock_size, swmr, **kwds)\u001b[0m\n\u001b[1;32m    267\u001b[0m             \u001b[0;32mwith\u001b[0m \u001b[0mphil\u001b[0m\u001b[0;34m:\u001b[0m\u001b[0;34m\u001b[0m\u001b[0m\n\u001b[1;32m    268\u001b[0m                 \u001b[0mfapl\u001b[0m \u001b[0;34m=\u001b[0m \u001b[0mmake_fapl\u001b[0m\u001b[0;34m(\u001b[0m\u001b[0mdriver\u001b[0m\u001b[0;34m,\u001b[0m \u001b[0mlibver\u001b[0m\u001b[0;34m,\u001b[0m \u001b[0;34m**\u001b[0m\u001b[0mkwds\u001b[0m\u001b[0;34m)\u001b[0m\u001b[0;34m\u001b[0m\u001b[0m\n\u001b[0;32m--> 269\u001b[0;31m                 \u001b[0mfid\u001b[0m \u001b[0;34m=\u001b[0m \u001b[0mmake_fid\u001b[0m\u001b[0;34m(\u001b[0m\u001b[0mname\u001b[0m\u001b[0;34m,\u001b[0m \u001b[0mmode\u001b[0m\u001b[0;34m,\u001b[0m \u001b[0muserblock_size\u001b[0m\u001b[0;34m,\u001b[0m \u001b[0mfapl\u001b[0m\u001b[0;34m,\u001b[0m \u001b[0mswmr\u001b[0m\u001b[0;34m=\u001b[0m\u001b[0mswmr\u001b[0m\u001b[0;34m)\u001b[0m\u001b[0;34m\u001b[0m\u001b[0m\n\u001b[0m\u001b[1;32m    270\u001b[0m \u001b[0;34m\u001b[0m\u001b[0m\n\u001b[1;32m    271\u001b[0m                 \u001b[0;32mif\u001b[0m \u001b[0mswmr_support\u001b[0m\u001b[0;34m:\u001b[0m\u001b[0;34m\u001b[0m\u001b[0m\n",
      "\u001b[0;32m/opt/conda/lib/python3.6/site-packages/h5py/_hl/files.py\u001b[0m in \u001b[0;36mmake_fid\u001b[0;34m(name, mode, userblock_size, fapl, fcpl, swmr)\u001b[0m\n\u001b[1;32m    103\u001b[0m         \u001b[0mfid\u001b[0m \u001b[0;34m=\u001b[0m \u001b[0mh5f\u001b[0m\u001b[0;34m.\u001b[0m\u001b[0mcreate\u001b[0m\u001b[0;34m(\u001b[0m\u001b[0mname\u001b[0m\u001b[0;34m,\u001b[0m \u001b[0mh5f\u001b[0m\u001b[0;34m.\u001b[0m\u001b[0mACC_EXCL\u001b[0m\u001b[0;34m,\u001b[0m \u001b[0mfapl\u001b[0m\u001b[0;34m=\u001b[0m\u001b[0mfapl\u001b[0m\u001b[0;34m,\u001b[0m \u001b[0mfcpl\u001b[0m\u001b[0;34m=\u001b[0m\u001b[0mfcpl\u001b[0m\u001b[0;34m)\u001b[0m\u001b[0;34m\u001b[0m\u001b[0m\n\u001b[1;32m    104\u001b[0m     \u001b[0;32melif\u001b[0m \u001b[0mmode\u001b[0m \u001b[0;34m==\u001b[0m \u001b[0;34m'w'\u001b[0m\u001b[0;34m:\u001b[0m\u001b[0;34m\u001b[0m\u001b[0m\n\u001b[0;32m--> 105\u001b[0;31m         \u001b[0mfid\u001b[0m \u001b[0;34m=\u001b[0m \u001b[0mh5f\u001b[0m\u001b[0;34m.\u001b[0m\u001b[0mcreate\u001b[0m\u001b[0;34m(\u001b[0m\u001b[0mname\u001b[0m\u001b[0;34m,\u001b[0m \u001b[0mh5f\u001b[0m\u001b[0;34m.\u001b[0m\u001b[0mACC_TRUNC\u001b[0m\u001b[0;34m,\u001b[0m \u001b[0mfapl\u001b[0m\u001b[0;34m=\u001b[0m\u001b[0mfapl\u001b[0m\u001b[0;34m,\u001b[0m \u001b[0mfcpl\u001b[0m\u001b[0;34m=\u001b[0m\u001b[0mfcpl\u001b[0m\u001b[0;34m)\u001b[0m\u001b[0;34m\u001b[0m\u001b[0m\n\u001b[0m\u001b[1;32m    106\u001b[0m     \u001b[0;32melif\u001b[0m \u001b[0mmode\u001b[0m \u001b[0;34m==\u001b[0m \u001b[0;34m'a'\u001b[0m\u001b[0;34m:\u001b[0m\u001b[0;34m\u001b[0m\u001b[0m\n\u001b[1;32m    107\u001b[0m         \u001b[0;31m# Open in append mode (read/write).\u001b[0m\u001b[0;34m\u001b[0m\u001b[0;34m\u001b[0m\u001b[0m\n",
      "\u001b[0;32mh5py/_objects.pyx\u001b[0m in \u001b[0;36mh5py._objects.with_phil.wrapper\u001b[0;34m()\u001b[0m\n",
      "\u001b[0;32mh5py/_objects.pyx\u001b[0m in \u001b[0;36mh5py._objects.with_phil.wrapper\u001b[0;34m()\u001b[0m\n",
      "\u001b[0;32mh5py/h5f.pyx\u001b[0m in \u001b[0;36mh5py.h5f.create\u001b[0;34m()\u001b[0m\n",
      "\u001b[0;31mOSError\u001b[0m: Unable to create file (unable to open file: name = 'cache/rnn_model.h5', errno = 2, error message = 'No such file or directory', flags = 13, o_flags = 242)"
     ]
    }
   ],
   "source": [
    "import os\n",
    "# Save your model, so that you can quickly load it in future (and perhaps resume training)\n",
    "model_file = \"rnn_model.h5\"  # HDF5 file\n",
    "model.save(os.path.join(\"cache\", model_file))\n",
    "\n",
    "# Later you can load it using keras.models.load_model()\n",
    "#from keras.models import load_model\n",
    "#model = load_model(os.path.join(cache_dir, model_file))"
   ]
  },
  {
   "cell_type": "markdown",
   "metadata": {},
   "source": [
    "Once you have trained your model, it's time to see how well it performs on unseen test data."
   ]
  },
  {
   "cell_type": "code",
   "execution_count": 18,
   "metadata": {},
   "outputs": [
    {
     "name": "stdout",
     "output_type": "stream",
     "text": [
      "Test accuracy: 0.863920000038\n"
     ]
    }
   ],
   "source": [
    "# Evaluate your model on the test set\n",
    "scores = model.evaluate(X_test, y_test, verbose=0)  # returns loss and other metrics specified in model.compile()\n",
    "print(\"Test accuracy:\", scores[1])  # scores[1] should correspond to accuracy if you passed in metrics=['accuracy']"
   ]
  },
  {
   "cell_type": "markdown",
   "metadata": {},
   "source": [
    "#### Question: Comparing RNNs and Traditional Methods\n",
    "\n",
    "How well does your RNN model perform compared to the BoW + Gradient-Boosted Decision Trees?\n",
    "\n",
    "#### Answer:\n",
    "\n",
    "Even with the minimal parameteres and hyperparameters LSTM outperformed both regular ML classifiers. 86% accuracy on test set versus 72% for BoW GaussianNB classifier and 82% for GradientBoostingClassifier.\n",
    "Averege number of epochs is 20 - 40, also LSTM layer nodes and Embedding dimentions could have been much higher (up to 512).\n",
    "\n",
    "## Extensions\n",
    "\n",
    "There are several ways in which you can build upon this notebook. Each comes with its set of challenges, but can be a rewarding experience.\n",
    "\n",
    "- The first thing is to try and improve the accuracy of your model by experimenting with different architectures, layers and parameters. How good can you get without taking prohibitively long to train? How do you prevent overfitting?\n",
    "\n",
    "- Then, you may want to deploy your model as a mobile app or web service. What do you need to do in order to package your model for such deployment? How would you accept a new review, convert it into a form suitable for your model, and perform the actual prediction? (Note that the same environment you used during training may not be available.)\n",
    "\n",
    "- One simplification we made in this notebook is to limit the task to binary classification. The dataset actually includes a more fine-grained review rating that is indicated in each review's filename (which is of the form `<[id]_[rating].txt>` where `[id]` is a unique identifier and `[rating]` is on a scale of 1-10; note that neutral reviews > 4 or < 7 have been excluded). How would you modify the notebook to perform regression on the review ratings? In what situations is regression more useful than classification, and vice-versa?\n",
    "\n",
    "Whatever direction you take, make sure to share your results and learnings with your peers, through blogs, discussions and participating in online competitions. This is also a great way to become more visible to potential employers!"
   ]
  },
  {
   "cell_type": "code",
   "execution_count": null,
   "metadata": {},
   "outputs": [],
   "source": []
  }
 ],
 "metadata": {
  "kernelspec": {
   "display_name": "Python 3",
   "language": "python",
   "name": "python3"
  },
  "language_info": {
   "codemirror_mode": {
    "name": "ipython",
    "version": 3
   },
   "file_extension": ".py",
   "mimetype": "text/x-python",
   "name": "python",
   "nbconvert_exporter": "python",
   "pygments_lexer": "ipython3",
   "version": "3.6.3"
  }
 },
 "nbformat": 4,
 "nbformat_minor": 2
}
